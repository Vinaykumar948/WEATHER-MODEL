{
  "nbformat": 4,
  "nbformat_minor": 0,
  "metadata": {
    "colab": {
      "provenance": [],
      "authorship_tag": "ABX9TyNLVwBXs+grt76Mk2BrP884",
      "include_colab_link": true
    },
    "kernelspec": {
      "name": "python3",
      "display_name": "Python 3"
    },
    "language_info": {
      "name": "python"
    }
  },
  "cells": [
    {
      "cell_type": "markdown",
      "metadata": {
        "id": "view-in-github",
        "colab_type": "text"
      },
      "source": [
        "<a href=\"https://colab.research.google.com/github/Vinaykumar948/WEATHER-MODEL/blob/main/Untitled7.ipynb\" target=\"_parent\"><img src=\"https://colab.research.google.com/assets/colab-badge.svg\" alt=\"Open In Colab\"/></a>"
      ]
    },
    {
      "cell_type": "code",
      "execution_count": 3,
      "metadata": {
        "id": "OAqPw9r5D82b"
      },
      "outputs": [],
      "source": [
        "# Function to model temperature using a quadratic equation\n",
        "def Temperature_modeling(a, b, c, time):\n",
        "    \"\"\"Calculate temperature based on a quadratic formula.\"\"\"\n",
        "    return a * time**2 + b * time + c\n",
        "\n",
        "# Function to read coefficients from a file\n",
        "def read_from_file(file_path):\n",
        "    \"\"\"Read coefficients and time from a file.\"\"\"\n",
        "    with open(file_path, 'r') as file:\n",
        "        lines = file.readlines()\n",
        "    coefficients = [list(map(float, line.strip().split(','))) for line in lines]\n",
        "    return coefficients\n"
      ]
    },
    {
      "cell_type": "code",
      "source": [
        "# Hardcoded variables example\n",
        "print(\"Hardcoding variables:\")\n",
        "a, b, c, time = 1, 2, 3, 4  # Hardcoded values\n",
        "temperature = Temperature_modeling(a, b, c, time)\n",
        "print(\"Temperature for hardcoded coefficients at time\", time, \"hours:\", temperature)\n"
      ],
      "metadata": {
        "colab": {
          "base_uri": "https://localhost:8080/"
        },
        "id": "Pp88PtQvEFyh",
        "outputId": "26995a72-47db-4fb2-dc75-6674fd8a0201"
      },
      "execution_count": 4,
      "outputs": [
        {
          "output_type": "stream",
          "name": "stdout",
          "text": [
            "Hardcoding variables:\n",
            "Temperature for hardcoded coefficients at time 4 hours: 27\n"
          ]
        }
      ]
    },
    {
      "cell_type": "code",
      "source": [
        "# Accepting variables via keyboard input\n",
        "print(\"\\nAccepting variables via keyboard input:\")\n",
        "a = float(input(\"Enter coefficient 'a': \"))\n",
        "b = float(input(\"Enter coefficient 'b': \"))\n",
        "c = float(input(\"Enter coefficient 'c': \"))\n",
        "time = float(input(\"Enter time: \"))\n",
        "temperature = Temperature_modeling(a, b, c, time)\n",
        "print(\"Temperature from keyboard coefficients at time\", time, \"hours:\", temperature)\n"
      ],
      "metadata": {
        "colab": {
          "base_uri": "https://localhost:8080/"
        },
        "id": "rxWAjjX8E74k",
        "outputId": "4a6b575c-3f62-466a-f225-ef0d12819b72"
      },
      "execution_count": 5,
      "outputs": [
        {
          "output_type": "stream",
          "name": "stdout",
          "text": [
            "\n",
            "Accepting variables via keyboard input:\n",
            "Enter coefficient 'a': 20.5\n",
            "Enter coefficient 'b': 14.5\n",
            "Enter coefficient 'c': 13.6\n",
            "Enter time: 12\n",
            "Temperature from keyboard coefficients at time 12.0 hours: 3139.6\n"
          ]
        }
      ]
    },
    {
      "cell_type": "code",
      "source": [
        "# Processing a single set of inputs from a file\n",
        "print(\"\\nProcessing a single set of inputs from a file:\")\n",
        "file_path = 'input.txt'  # Replace with the actual file path\n",
        "\n",
        "# Create a sample input file for demonstration (use this only if input.txt doesn't exist)\n",
        "with open(file_path, 'w') as file:\n",
        "    file.write(\"1,2,3,4\\n\")\n",
        "\n",
        "coefficients = read_from_file(file_path)\n",
        "a, b, c, time = coefficients[0]  # Use the first set of coefficients\n",
        "temperature = Temperature_modeling(a, b, c, time)\n",
        "print(\"Temperature from file coefficients at time\", time, \"hours:\", temperature)\n"
      ],
      "metadata": {
        "colab": {
          "base_uri": "https://localhost:8080/"
        },
        "id": "g1w-5Bc5FDe8",
        "outputId": "32d7dbe6-fb28-4bab-f22a-992848c95249"
      },
      "execution_count": 7,
      "outputs": [
        {
          "output_type": "stream",
          "name": "stdout",
          "text": [
            "\n",
            "Processing a single set of inputs from a file:\n",
            "Temperature from file coefficients at time 4.0 hours: 27.0\n"
          ]
        }
      ]
    },
    {
      "cell_type": "code",
      "source": [
        "# Processing multiple sets of inputs from a file\n",
        "print(\"\\nProcessing multiple sets of inputs from a file:\")\n",
        "file_path = 'input.txt'  # Replace with the actual file path\n",
        "\n",
        "# Create a sample input file for demonstration (use this only if input.txt doesn't exist)\n",
        "with open(file_path, 'w') as file:\n",
        "    file.write(\"1,2,3,4\\n2,3,4,5\\n\")\n",
        "\n",
        "coefficients = read_from_file(file_path)\n",
        "for idx, (a, b, c, time) in enumerate(coefficients, start=1):\n",
        "    temperature = Temperature_modeling(a, b, c, time)\n",
        "    print(f\"Set {idx}: Temperature at time {time} hours is {temperature}\")\n"
      ],
      "metadata": {
        "colab": {
          "base_uri": "https://localhost:8080/"
        },
        "id": "_cJJx-pgFHLe",
        "outputId": "ca2556d6-f2ca-4f0f-86db-766724a590f3"
      },
      "execution_count": 6,
      "outputs": [
        {
          "output_type": "stream",
          "name": "stdout",
          "text": [
            "\n",
            "Processing multiple sets of inputs from a file:\n",
            "Set 1: Temperature at time 4.0 hours is 27.0\n",
            "Set 2: Temperature at time 5.0 hours is 69.0\n"
          ]
        }
      ]
    }
  ]
}